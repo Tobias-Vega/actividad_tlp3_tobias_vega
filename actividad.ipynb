{
 "cells": [
  {
   "cell_type": "markdown",
   "id": "498731c6",
   "metadata": {},
   "source": [
    "# Actividad - Trabajando con Series de Pandas.\n",
    "## Criterios de evaluación.\n",
    "\n",
    "* Se deben utilizar nombres de variables descriptivos y claros (Utilizar la nomeclatura correspondiente para los nombres de variables).\n",
    "* Comentarios claros y concisos que expliquen el propósito de cada sección del código.\n",
    "* Utilizar mensajes de commit **descriptivos**. (Puedes utilizar la extension CONVENTIONAL COMMIT de VS-CODE). \n",
    "* Entrega en tiempo y forma.\n",
    "* Todo el código desarrollado debe ser subido a un repositorio en GitHub (el nombre del repositorio de seguir la siguiente estructura: actividad_tlp3_nombre_apellido).\n",
    "* Para resolver las actividades se debe insertar casillas de codigo entre cada actividad del cuaderno de Jupyter\n",
    "\n",
    "### ¡Importante!\n",
    "**El incumplimiento de los criterios de evaluación restará puntos en la nota final del práctico!**"
   ]
  },
  {
   "cell_type": "markdown",
   "id": "b361a7b6",
   "metadata": {},
   "source": [
    "### **Actividad 1:** \n",
    "\n",
    "Crear Series desde diferentes estructuras.\n",
    "* Crea una Series con los números del 1 al 5\n",
    "* Crea una Series a partir de un diccionario con nombres de países como claves y sus capitales como valores."
   ]
  },
  {
   "cell_type": "code",
   "execution_count": 5,
   "id": "26009294",
   "metadata": {},
   "outputs": [],
   "source": [
    "from pandas import Series"
   ]
  },
  {
   "cell_type": "code",
   "execution_count": 9,
   "id": "704fa9ad",
   "metadata": {},
   "outputs": [
    {
     "data": {
      "text/plain": [
       "0    1\n",
       "1    2\n",
       "2    3\n",
       "3    4\n",
       "4    5\n",
       "dtype: int64"
      ]
     },
     "execution_count": 9,
     "metadata": {},
     "output_type": "execute_result"
    }
   ],
   "source": [
    "numeros = Series([1, 2, 3, 4, 5])\n",
    "numeros"
   ]
  },
  {
   "cell_type": "code",
   "execution_count": 11,
   "id": "41803c42",
   "metadata": {},
   "outputs": [
    {
     "data": {
      "text/plain": [
       "Argentina    Buenos Aires\n",
       "Rusia               Moscú\n",
       "Alemania           Berlín\n",
       "Brasil           Brasilia\n",
       "Japón               Tokio\n",
       "China               Pekín\n",
       "dtype: object"
      ]
     },
     "execution_count": 11,
     "metadata": {},
     "output_type": "execute_result"
    }
   ],
   "source": [
    "paises = {\n",
    "  \"Argentina\": \"Buenos Aires\",\n",
    "  \"Rusia\": \"Moscú\",\n",
    "  \"Alemania\": \"Berlín\",\n",
    "  \"Brasil\": \"Brasilia\",\n",
    "  \"Japón\": \"Tokio\",\n",
    "  \"China\": \"Pekín\"\n",
    "}\n",
    "\n",
    "series_paises = Series(paises)\n",
    "series_paises"
   ]
  },
  {
   "cell_type": "markdown",
   "id": "0c239195",
   "metadata": {},
   "source": [
    "### **Actividad 2:** \n",
    "Acceso y selección de elementos.\n",
    "* Usa una Series con tareas (que haceres cotidianos) de una semana\n",
    "* Accede a diferentes elementos a elección.\n",
    "* Cambia los valores de los dias pares.\n"
   ]
  },
  {
   "cell_type": "code",
   "execution_count": 25,
   "id": "3611d25a",
   "metadata": {},
   "outputs": [
    {
     "data": {
      "text/plain": [
       "Lunes                  Estudiar python\n",
       "Martes                 Hacer ejercicio\n",
       "Miercoles              Limpiar la casa\n",
       "Jueves                   Lavar la ropa\n",
       "Viernes                Jugar al futbol\n",
       "Sabado       Hacer las tareas del polo\n",
       "Domingo                         Dormir\n",
       "dtype: object"
      ]
     },
     "execution_count": 25,
     "metadata": {},
     "output_type": "execute_result"
    }
   ],
   "source": [
    "tareas = [\"Estudiar python\", \"Hacer ejercicio\", \"Limpiar la casa\", \"Lavar la ropa\", \"Jugar al futbol\", \"Hacer las tareas del polo\", \"Dormir\"]\n",
    "\n",
    "dias = [\"Lunes\", \"Martes\", \"Miercoles\", \"Jueves\", \"Viernes\", \"Sabado\", \"Domingo\"]\n",
    "\n",
    "series_tareas = Series(tareas, index=dias)\n",
    "\n",
    "series_tareas\n"
   ]
  },
  {
   "cell_type": "code",
   "execution_count": 30,
   "id": "5effff39",
   "metadata": {},
   "outputs": [
    {
     "name": "stdout",
     "output_type": "stream",
     "text": [
      "Estudiar python\n",
      "Limpiar la casa\n",
      "Hacer las tareas del polo\n"
     ]
    }
   ],
   "source": [
    "print(series_tareas[\"Lunes\"])\n",
    "print(series_tareas[\"Miercoles\"])\n",
    "print(series_tareas[\"Sabado\"])"
   ]
  },
  {
   "cell_type": "code",
   "execution_count": 32,
   "id": "18146150",
   "metadata": {},
   "outputs": [
    {
     "data": {
      "text/plain": [
       "Lunes            Estudiar python\n",
       "Martes                   Cocinar\n",
       "Miercoles        Limpiar la casa\n",
       "Jueves       Estudiar matematica\n",
       "Viernes          Jugar al futbol\n",
       "Sabado              Mirar series\n",
       "Domingo                   Dormir\n",
       "dtype: object"
      ]
     },
     "execution_count": 32,
     "metadata": {},
     "output_type": "execute_result"
    }
   ],
   "source": [
    "series_tareas[\"Martes\"] = \"Cocinar\"\n",
    "series_tareas[\"Jueves\"] = \"Estudiar matematica\"\n",
    "series_tareas[\"Sabado\"] = \"Mirar series\"\n",
    "series_tareas"
   ]
  },
  {
   "cell_type": "markdown",
   "id": "70a24b97",
   "metadata": {},
   "source": [
    "### **Actividad 3:**\n",
    "Operaciones aritméticas. \n",
    "* Realiza las operaciones basicas con 2 series cuales quieran.\n",
    "* Eleva los valores de la primer serie a 3 potencias difetentes."
   ]
  },
  {
   "cell_type": "code",
   "execution_count": 33,
   "id": "a9c8ebc7",
   "metadata": {},
   "outputs": [
    {
     "data": {
      "text/plain": [
       "0     5\n",
       "1    10\n",
       "2    15\n",
       "3    20\n",
       "4    25\n",
       "dtype: int64"
      ]
     },
     "execution_count": 33,
     "metadata": {},
     "output_type": "execute_result"
    }
   ],
   "source": [
    "serie1 = Series([2, 4, 6, 8, 10])\n",
    "serie2 = Series([3, 6, 9, 12, 15])\n",
    "\n",
    "serie1 + serie2"
   ]
  },
  {
   "cell_type": "code",
   "execution_count": 37,
   "id": "685f6877",
   "metadata": {},
   "outputs": [
    {
     "data": {
      "text/plain": [
       "(0      4\n",
       " 1     16\n",
       " 2     36\n",
       " 3     64\n",
       " 4    100\n",
       " dtype: int64,\n",
       " 0       8\n",
       " 1      64\n",
       " 2     216\n",
       " 3     512\n",
       " 4    1000\n",
       " dtype: int64,\n",
       " 0        32\n",
       " 1      1024\n",
       " 2      7776\n",
       " 3     32768\n",
       " 4    100000\n",
       " dtype: int64)"
      ]
     },
     "execution_count": 37,
     "metadata": {},
     "output_type": "execute_result"
    }
   ],
   "source": [
    "cuadrado = serie1 ** 2\n",
    "cubo = serie1 ** 3\n",
    "quinta = serie1 ** 5\n",
    "\n",
    "cuadrado, cubo, quinta"
   ]
  },
  {
   "cell_type": "markdown",
   "id": "b8dac397",
   "metadata": {},
   "source": [
    "### **Actividad 4:** \n",
    "Filtrado con condiciones.\n",
    "* Crea una Series de edades de 10 personas.\n",
    "* Muestra solo a los mayores de 18.\n",
    "* Reemplaza a los menores por \"Menor de edad\"."
   ]
  },
  {
   "cell_type": "code",
   "execution_count": 56,
   "id": "d04fd492",
   "metadata": {},
   "outputs": [
    {
     "data": {
      "text/plain": [
       "0    10\n",
       "1    14\n",
       "2    18\n",
       "3    20\n",
       "4    23\n",
       "5    25\n",
       "6    35\n",
       "7    43\n",
       "8    45\n",
       "9    64\n",
       "dtype: int64"
      ]
     },
     "execution_count": 56,
     "metadata": {},
     "output_type": "execute_result"
    }
   ],
   "source": [
    "edades = Series([10, 14, 18, 20, 23, 25, 35, 43, 45, 64])\n",
    "\n",
    "edades"
   ]
  },
  {
   "cell_type": "code",
   "execution_count": 57,
   "id": "11e7a6ad",
   "metadata": {},
   "outputs": [
    {
     "data": {
      "text/plain": [
       "3    20\n",
       "4    23\n",
       "5    25\n",
       "6    35\n",
       "7    43\n",
       "8    45\n",
       "9    64\n",
       "dtype: int64"
      ]
     },
     "execution_count": 57,
     "metadata": {},
     "output_type": "execute_result"
    }
   ],
   "source": [
    "edades[edades > 18]"
   ]
  },
  {
   "cell_type": "code",
   "execution_count": 58,
   "id": "cf79b4ab",
   "metadata": {},
   "outputs": [
    {
     "data": {
      "text/plain": [
       "0    menor de edad\n",
       "1    menor de edad\n",
       "2               18\n",
       "3               20\n",
       "4               23\n",
       "5               25\n",
       "6               35\n",
       "7               43\n",
       "8               45\n",
       "9               64\n",
       "dtype: object"
      ]
     },
     "execution_count": 58,
     "metadata": {},
     "output_type": "execute_result"
    }
   ],
   "source": [
    "edades = edades.astype(\"object\")\n",
    "edades[edades < 18] = \"menor de edad\"\n",
    "edades"
   ]
  },
  {
   "cell_type": "markdown",
   "id": "8889d0f2",
   "metadata": {},
   "source": [
    "### Actividad 5:\n",
    "Estadísticas básicas.\n",
    "\n",
    "* Crea una Series con las notas de 10 estudiantes.\n",
    "* Calcula la media, mediana, desviación estándar y máximo.\n",
    "* Muestra cuántos estudiantes aprobaron si el mínimo para aprobar es 6.\n",
    "* Ordenar las notas de manera ascendente y descendente. "
   ]
  },
  {
   "cell_type": "code",
   "execution_count": 59,
   "id": "bc0ec844",
   "metadata": {},
   "outputs": [
    {
     "data": {
      "text/plain": [
       "0     7\n",
       "1     6\n",
       "2     5\n",
       "3     8\n",
       "4    10\n",
       "5     9\n",
       "6     8\n",
       "7     5\n",
       "8     6\n",
       "9     7\n",
       "dtype: int64"
      ]
     },
     "execution_count": 59,
     "metadata": {},
     "output_type": "execute_result"
    }
   ],
   "source": [
    "notas = Series([7, 6, 5, 8, 10, 9, 8, 5, 6, 7])\n",
    "notas"
   ]
  },
  {
   "cell_type": "code",
   "execution_count": 64,
   "id": "36dc60c8",
   "metadata": {},
   "outputs": [
    {
     "data": {
      "text/plain": [
       "(np.float64(7.1), np.float64(7.0), np.float64(1.66332999331662), np.int64(10))"
      ]
     },
     "execution_count": 64,
     "metadata": {},
     "output_type": "execute_result"
    }
   ],
   "source": [
    "media = notas.mean()\n",
    "mediana = notas.median()\n",
    "desviacion_estandar = notas.std()\n",
    "maximo = notas.max()\n",
    "\n",
    "media, mediana, desviacion_estandar, maximo"
   ]
  },
  {
   "cell_type": "code",
   "execution_count": 65,
   "id": "7c6ed7f5",
   "metadata": {},
   "outputs": [
    {
     "data": {
      "text/plain": [
       "np.int64(8)"
      ]
     },
     "execution_count": 65,
     "metadata": {},
     "output_type": "execute_result"
    }
   ],
   "source": [
    "cantidad_aprobados = notas[notas >= 6].count()\n",
    "cantidad_aprobados"
   ]
  },
  {
   "cell_type": "code",
   "execution_count": 72,
   "id": "e7ce711d",
   "metadata": {},
   "outputs": [
    {
     "data": {
      "text/plain": [
       "2     5\n",
       "7     5\n",
       "1     6\n",
       "8     6\n",
       "9     7\n",
       "0     7\n",
       "3     8\n",
       "6     8\n",
       "5     9\n",
       "4    10\n",
       "dtype: int64"
      ]
     },
     "execution_count": 72,
     "metadata": {},
     "output_type": "execute_result"
    }
   ],
   "source": [
    "notas_ordendadas_ascendente = notas.sort_values()\n",
    "notas_ordendadas_ascendente"
   ]
  },
  {
   "cell_type": "code",
   "execution_count": 73,
   "id": "373bbe7c",
   "metadata": {},
   "outputs": [
    {
     "data": {
      "text/plain": [
       "4    10\n",
       "5     9\n",
       "3     8\n",
       "6     8\n",
       "9     7\n",
       "0     7\n",
       "1     6\n",
       "8     6\n",
       "2     5\n",
       "7     5\n",
       "dtype: int64"
      ]
     },
     "execution_count": 73,
     "metadata": {},
     "output_type": "execute_result"
    }
   ],
   "source": [
    "notas_ordenadas_descendente = notas.sort_values(ascending=False)\n",
    "notas_ordenadas_descendente"
   ]
  }
 ],
 "metadata": {
  "kernelspec": {
   "display_name": "env",
   "language": "python",
   "name": "python3"
  },
  "language_info": {
   "codemirror_mode": {
    "name": "ipython",
    "version": 3
   },
   "file_extension": ".py",
   "mimetype": "text/x-python",
   "name": "python",
   "nbconvert_exporter": "python",
   "pygments_lexer": "ipython3",
   "version": "3.13.2"
  }
 },
 "nbformat": 4,
 "nbformat_minor": 5
}
